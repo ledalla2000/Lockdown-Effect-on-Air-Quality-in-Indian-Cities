{
 "cells": [
  {
   "cell_type": "code",
   "execution_count": 94,
   "source": [
    "import pandas as pd\n",
    "import numpy as np\n",
    "from sklearn.experimental import enable_iterative_imputer\n",
    "from sklearn.impute import IterativeImputer\n",
    "from sklearn.linear_model import BayesianRidge"
   ],
   "outputs": [],
   "metadata": {}
  },
  {
   "cell_type": "code",
   "execution_count": 95,
   "source": [
    "df19 = pd.read_csv(\"./2019_april.csv\")\n",
    "df20 = pd.read_csv(\"./2020_april.csv\")\n",
    "df21 = pd.read_csv(\"./2021_april.csv\")"
   ],
   "outputs": [],
   "metadata": {}
  },
  {
   "cell_type": "code",
   "execution_count": 96,
   "source": [
    "features = set(df19.columns) and set(df20.columns) and set(df21.columns)\n",
    "features -= {\"wind-gust\",\"precipitation\",\"wd\"}\n",
    "features = list(features)\n",
    "features.sort()"
   ],
   "outputs": [],
   "metadata": {}
  },
  {
   "cell_type": "code",
   "execution_count": 97,
   "source": [
    "print(features)"
   ],
   "outputs": [
    {
     "output_type": "stream",
     "name": "stdout",
     "text": [
      "['City', 'Date', 'co', 'dew', 'humidity', 'no2', 'o3', 'pm10', 'pm25', 'pressure', 'so2', 'temperature', 'wind-speed']\n"
     ]
    }
   ],
   "metadata": {}
  },
  {
   "cell_type": "code",
   "execution_count": 80,
   "source": [
    "df19 = df19[features]\n",
    "df20 = df20[features]\n",
    "df21 = df21[features]"
   ],
   "outputs": [],
   "metadata": {}
  },
  {
   "cell_type": "code",
   "execution_count": 88,
   "source": [
    "def interpolate(df, year):\n",
    "    df.replace(0,np.nan,inplace=True)\n",
    "    for i in range(18):\n",
    "        df_ = df.iloc[i*30:i*30 + 30,1:]\n",
    "        tndx = pd.date_range(start=year+\"-04-01\",end=year+\"-04-30\",freq='D')\n",
    "        df_.index = tndx\n",
    "        df_.interpolate(method = 'time',inplace=True)\n",
    "        df_.iloc[:,0] = tndx\n",
    "        df_.index = range(i*30,i*30 + 30)\n",
    "        df.iloc[i*30:i*30 + 30,1:] = df_\n",
    "    return df"
   ],
   "outputs": [],
   "metadata": {}
  },
  {
   "cell_type": "code",
   "execution_count": 90,
   "source": [
    "def impute_data(df):\n",
    "    data = df.iloc[:,2:]\n",
    "    imputer = IterativeImputer(BayesianRidge())\n",
    "    df.iloc[:,2:] = imputer.fit_transform(data)\n",
    "    return df"
   ],
   "outputs": [],
   "metadata": {}
  },
  {
   "cell_type": "code",
   "execution_count": 92,
   "source": [
    "df19 = interpolate(df19,\"2019\")\n",
    "df20 = interpolate(df20,\"2020\")\n",
    "df21 = interpolate(df21,\"2021\")"
   ],
   "outputs": [],
   "metadata": {}
  },
  {
   "cell_type": "code",
   "execution_count": null,
   "source": [
    "df19 = impute_data(df19)\n",
    "df20 = impute_data(df20)\n",
    "df21 = impute_data(df21)"
   ],
   "outputs": [],
   "metadata": {}
  },
  {
   "cell_type": "code",
   "execution_count": null,
   "source": [
    "df19.to_csv(\"./2019_april_clean.csv\", index = False)\n",
    "df20.to_csv(\"./2020_april_clean.csv\", index = False)\n",
    "df21.to_csv(\"./2021_april_clean.csv\", index = False)"
   ],
   "outputs": [],
   "metadata": {}
  }
 ],
 "metadata": {
  "orig_nbformat": 4,
  "language_info": {
   "name": "python",
   "version": "3.7.11",
   "mimetype": "text/x-python",
   "codemirror_mode": {
    "name": "ipython",
    "version": 3
   },
   "pygments_lexer": "ipython3",
   "nbconvert_exporter": "python",
   "file_extension": ".py"
  },
  "kernelspec": {
   "name": "python3",
   "display_name": "Python 3.7.11 64-bit ('torch': conda)"
  },
  "interpreter": {
   "hash": "451440e33959c1f925253348a8f10ad71d85494195742e56cf0c028e060ea414"
  }
 },
 "nbformat": 4,
 "nbformat_minor": 2
}