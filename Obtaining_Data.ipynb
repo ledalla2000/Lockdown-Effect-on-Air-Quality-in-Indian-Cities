{
 "cells": [
  {
   "cell_type": "code",
   "execution_count": 1,
   "source": [
    "import pandas as pd\n",
    "import numpy as np\n",
    "import pickle"
   ],
   "outputs": [],
   "metadata": {}
  },
  {
   "cell_type": "code",
   "execution_count": 12,
   "source": [
    "df = pd.read_csv(\"./waqi-covid19-airqualitydata-2020.csv\", skiprows=4)\n",
    "days = 30"
   ],
   "outputs": [],
   "metadata": {}
  },
  {
   "cell_type": "code",
   "execution_count": 57,
   "source": [
    "df = df[df[\"Country\"] == 'IN']\n",
    "df = df[[\"Date\",\"City\",\"Specie\",\"max\"]]\n",
    "df.replace(\"wind speed\", \"wind-speed\", inplace=True)\n",
    "df.replace(\"wind gust\", \"wind-gust\", inplace=True)\n",
    "print(df.shape)\n",
    "df.head()"
   ],
   "outputs": [
    {
     "output_type": "stream",
     "name": "stdout",
     "text": [
      "(63934, 4)\n"
     ]
    },
    {
     "output_type": "execute_result",
     "data": {
      "text/html": [
       "<div>\n",
       "<style scoped>\n",
       "    .dataframe tbody tr th:only-of-type {\n",
       "        vertical-align: middle;\n",
       "    }\n",
       "\n",
       "    .dataframe tbody tr th {\n",
       "        vertical-align: top;\n",
       "    }\n",
       "\n",
       "    .dataframe thead th {\n",
       "        text-align: right;\n",
       "    }\n",
       "</style>\n",
       "<table border=\"1\" class=\"dataframe\">\n",
       "  <thead>\n",
       "    <tr style=\"text-align: right;\">\n",
       "      <th></th>\n",
       "      <th>Date</th>\n",
       "      <th>City</th>\n",
       "      <th>Specie</th>\n",
       "      <th>max</th>\n",
       "    </tr>\n",
       "  </thead>\n",
       "  <tbody>\n",
       "    <tr>\n",
       "      <th>587494</th>\n",
       "      <td>2021-03-02</td>\n",
       "      <td>Thrissur</td>\n",
       "      <td>dew</td>\n",
       "      <td>25.0</td>\n",
       "    </tr>\n",
       "    <tr>\n",
       "      <th>587495</th>\n",
       "      <td>2021-03-17</td>\n",
       "      <td>Thrissur</td>\n",
       "      <td>dew</td>\n",
       "      <td>25.0</td>\n",
       "    </tr>\n",
       "    <tr>\n",
       "      <th>587496</th>\n",
       "      <td>2021-07-28</td>\n",
       "      <td>Thrissur</td>\n",
       "      <td>dew</td>\n",
       "      <td>24.5</td>\n",
       "    </tr>\n",
       "    <tr>\n",
       "      <th>587497</th>\n",
       "      <td>2021-09-02</td>\n",
       "      <td>Thrissur</td>\n",
       "      <td>dew</td>\n",
       "      <td>25.0</td>\n",
       "    </tr>\n",
       "    <tr>\n",
       "      <th>587498</th>\n",
       "      <td>2021-02-17</td>\n",
       "      <td>Thrissur</td>\n",
       "      <td>dew</td>\n",
       "      <td>24.0</td>\n",
       "    </tr>\n",
       "  </tbody>\n",
       "</table>\n",
       "</div>"
      ],
      "text/plain": [
       "              Date      City Specie   max\n",
       "587494  2021-03-02  Thrissur    dew  25.0\n",
       "587495  2021-03-17  Thrissur    dew  25.0\n",
       "587496  2021-07-28  Thrissur    dew  24.5\n",
       "587497  2021-09-02  Thrissur    dew  25.0\n",
       "587498  2021-02-17  Thrissur    dew  24.0"
      ]
     },
     "metadata": {},
     "execution_count": 57
    }
   ],
   "metadata": {}
  },
  {
   "cell_type": "code",
   "execution_count": 3,
   "source": [
    "cities = 18 #len(df.City.unique())"
   ],
   "outputs": [],
   "metadata": {}
  },
  {
   "cell_type": "code",
   "execution_count": 59,
   "source": [
    "df.Specie.unique()"
   ],
   "outputs": [
    {
     "output_type": "execute_result",
     "data": {
      "text/plain": [
       "array(['dew', 'pm10', 'no2', 'so2', 'pm25', 'pressure', 'wind-speed',\n",
       "       'co', 'temperature', 'humidity', 'o3', 'wind-gust',\n",
       "       'precipitation', 'wd'], dtype=object)"
      ]
     },
     "metadata": {},
     "execution_count": 59
    }
   ],
   "metadata": {}
  },
  {
   "cell_type": "code",
   "execution_count": 60,
   "source": [
    "dates = []\n",
    "date_vals = []\n",
    "for d in df.Date.unique():\n",
    "    if d[5:7] in [\"04\"]: dates.append(d)\n",
    "for d in dates:\n",
    "    date_vals.append(int(d[5:7])*100 + int(d[8:]))\n",
    "#date_vals.append(414)\n",
    "date_vals.sort()\n",
    "date_vals = date_vals[:days]\n",
    "print(date_vals)"
   ],
   "outputs": [
    {
     "output_type": "stream",
     "name": "stdout",
     "text": [
      "[401, 402, 403, 404, 405, 406, 407, 408, 409, 410, 411, 412, 413, 414, 415, 416, 417, 418, 419, 420, 421, 422, 423, 424, 425, 426, 427, 428, 429, 430]\n"
     ]
    }
   ],
   "metadata": {}
  },
  {
   "cell_type": "code",
   "execution_count": 61,
   "source": [
    "for i in range(df.shape[0]):\n",
    "    d = df.iloc[i,0]\n",
    "    d = int(d[5:7])*100 + int(d[8:])\n",
    "    df.iloc[i,0] = d\n",
    "df.head()"
   ],
   "outputs": [
    {
     "output_type": "execute_result",
     "data": {
      "text/html": [
       "<div>\n",
       "<style scoped>\n",
       "    .dataframe tbody tr th:only-of-type {\n",
       "        vertical-align: middle;\n",
       "    }\n",
       "\n",
       "    .dataframe tbody tr th {\n",
       "        vertical-align: top;\n",
       "    }\n",
       "\n",
       "    .dataframe thead th {\n",
       "        text-align: right;\n",
       "    }\n",
       "</style>\n",
       "<table border=\"1\" class=\"dataframe\">\n",
       "  <thead>\n",
       "    <tr style=\"text-align: right;\">\n",
       "      <th></th>\n",
       "      <th>Date</th>\n",
       "      <th>City</th>\n",
       "      <th>Specie</th>\n",
       "      <th>max</th>\n",
       "    </tr>\n",
       "  </thead>\n",
       "  <tbody>\n",
       "    <tr>\n",
       "      <th>587494</th>\n",
       "      <td>302</td>\n",
       "      <td>Thrissur</td>\n",
       "      <td>dew</td>\n",
       "      <td>25.0</td>\n",
       "    </tr>\n",
       "    <tr>\n",
       "      <th>587495</th>\n",
       "      <td>317</td>\n",
       "      <td>Thrissur</td>\n",
       "      <td>dew</td>\n",
       "      <td>25.0</td>\n",
       "    </tr>\n",
       "    <tr>\n",
       "      <th>587496</th>\n",
       "      <td>728</td>\n",
       "      <td>Thrissur</td>\n",
       "      <td>dew</td>\n",
       "      <td>24.5</td>\n",
       "    </tr>\n",
       "    <tr>\n",
       "      <th>587497</th>\n",
       "      <td>902</td>\n",
       "      <td>Thrissur</td>\n",
       "      <td>dew</td>\n",
       "      <td>25.0</td>\n",
       "    </tr>\n",
       "    <tr>\n",
       "      <th>587498</th>\n",
       "      <td>217</td>\n",
       "      <td>Thrissur</td>\n",
       "      <td>dew</td>\n",
       "      <td>24.0</td>\n",
       "    </tr>\n",
       "  </tbody>\n",
       "</table>\n",
       "</div>"
      ],
      "text/plain": [
       "       Date      City Specie   max\n",
       "587494  302  Thrissur    dew  25.0\n",
       "587495  317  Thrissur    dew  25.0\n",
       "587496  728  Thrissur    dew  24.5\n",
       "587497  902  Thrissur    dew  25.0\n",
       "587498  217  Thrissur    dew  24.0"
      ]
     },
     "metadata": {},
     "execution_count": 61
    }
   ],
   "metadata": {}
  },
  {
   "cell_type": "code",
   "execution_count": 13,
   "source": [
    "features = [\"Date\"] + list(df.Specie.unique())"
   ],
   "outputs": [],
   "metadata": {}
  },
  {
   "cell_type": "code",
   "execution_count": 63,
   "source": [
    "cls = dict()\n",
    "gen = pd.DataFrame(np.zeros((days,15)), columns= features)\n",
    "gen.replace(0,None, inplace=True)\n",
    "for c in df.City.unique():\n",
    "    cls[c] = gen.copy()"
   ],
   "outputs": [],
   "metadata": {}
  },
  {
   "cell_type": "code",
   "execution_count": 64,
   "source": [
    "df.reset_index(inplace=True)"
   ],
   "outputs": [],
   "metadata": {}
  },
  {
   "cell_type": "code",
   "execution_count": 65,
   "source": [
    "for i in range(df.shape[0]):\n",
    "    if df[\"Date\"][i] in date_vals:\n",
    "        r = date_vals.index(df[\"Date\"][i])\n",
    "        c = features.index(df[\"Specie\"][i])\n",
    "        cls[df[\"City\"][i]].iloc[r, 0] = df[\"Date\"][i]\n",
    "        cls[df[\"City\"][i]].iloc[r, c] = df[\"max\"][i]"
   ],
   "outputs": [],
   "metadata": {}
  },
  {
   "cell_type": "code",
   "execution_count": 66,
   "source": [
    "cls[\"Thrissur\"].head()"
   ],
   "outputs": [
    {
     "output_type": "execute_result",
     "data": {
      "text/html": [
       "<div>\n",
       "<style scoped>\n",
       "    .dataframe tbody tr th:only-of-type {\n",
       "        vertical-align: middle;\n",
       "    }\n",
       "\n",
       "    .dataframe tbody tr th {\n",
       "        vertical-align: top;\n",
       "    }\n",
       "\n",
       "    .dataframe thead th {\n",
       "        text-align: right;\n",
       "    }\n",
       "</style>\n",
       "<table border=\"1\" class=\"dataframe\">\n",
       "  <thead>\n",
       "    <tr style=\"text-align: right;\">\n",
       "      <th></th>\n",
       "      <th>Date</th>\n",
       "      <th>dew</th>\n",
       "      <th>pm10</th>\n",
       "      <th>no2</th>\n",
       "      <th>so2</th>\n",
       "      <th>pm25</th>\n",
       "      <th>pressure</th>\n",
       "      <th>wind-speed</th>\n",
       "      <th>co</th>\n",
       "      <th>temperature</th>\n",
       "      <th>humidity</th>\n",
       "      <th>o3</th>\n",
       "      <th>wind-gust</th>\n",
       "      <th>precipitation</th>\n",
       "      <th>wd</th>\n",
       "    </tr>\n",
       "  </thead>\n",
       "  <tbody>\n",
       "    <tr>\n",
       "      <th>0</th>\n",
       "      <td>401.0</td>\n",
       "      <td>26.5</td>\n",
       "      <td>97.0</td>\n",
       "      <td>5.1</td>\n",
       "      <td>64.6</td>\n",
       "      <td>151.0</td>\n",
       "      <td>1009.0</td>\n",
       "      <td>5.9</td>\n",
       "      <td>10.8</td>\n",
       "      <td>34.0</td>\n",
       "      <td>98.9</td>\n",
       "      <td>29.8</td>\n",
       "      <td>0.0</td>\n",
       "      <td>0.0</td>\n",
       "      <td>0.0</td>\n",
       "    </tr>\n",
       "    <tr>\n",
       "      <th>1</th>\n",
       "      <td>402.0</td>\n",
       "      <td>24.0</td>\n",
       "      <td>73.0</td>\n",
       "      <td>5.1</td>\n",
       "      <td>15.0</td>\n",
       "      <td>189.0</td>\n",
       "      <td>1009.0</td>\n",
       "      <td>5.4</td>\n",
       "      <td>9.9</td>\n",
       "      <td>32.5</td>\n",
       "      <td>98.9</td>\n",
       "      <td>34.6</td>\n",
       "      <td>0.0</td>\n",
       "      <td>0.0</td>\n",
       "      <td>0.0</td>\n",
       "    </tr>\n",
       "    <tr>\n",
       "      <th>2</th>\n",
       "      <td>403.0</td>\n",
       "      <td>25.0</td>\n",
       "      <td>108.0</td>\n",
       "      <td>6.9</td>\n",
       "      <td>9.2</td>\n",
       "      <td>149.0</td>\n",
       "      <td>1010.5</td>\n",
       "      <td>6.1</td>\n",
       "      <td>10.1</td>\n",
       "      <td>33.0</td>\n",
       "      <td>97.9</td>\n",
       "      <td>20.7</td>\n",
       "      <td>0.0</td>\n",
       "      <td>0.0</td>\n",
       "      <td>0.0</td>\n",
       "    </tr>\n",
       "    <tr>\n",
       "      <th>3</th>\n",
       "      <td>404.0</td>\n",
       "      <td>24.5</td>\n",
       "      <td>85.0</td>\n",
       "      <td>5.2</td>\n",
       "      <td>11.4</td>\n",
       "      <td>161.0</td>\n",
       "      <td>1011.0</td>\n",
       "      <td>5.1</td>\n",
       "      <td>9.2</td>\n",
       "      <td>33.0</td>\n",
       "      <td>98.5</td>\n",
       "      <td>20.6</td>\n",
       "      <td>0.0</td>\n",
       "      <td>0.0</td>\n",
       "      <td>0.0</td>\n",
       "    </tr>\n",
       "    <tr>\n",
       "      <th>4</th>\n",
       "      <td>405.0</td>\n",
       "      <td>26.0</td>\n",
       "      <td>96.0</td>\n",
       "      <td>5.2</td>\n",
       "      <td>490.0</td>\n",
       "      <td>152.0</td>\n",
       "      <td>1011.0</td>\n",
       "      <td>5.4</td>\n",
       "      <td>9.1</td>\n",
       "      <td>34.5</td>\n",
       "      <td>88.8</td>\n",
       "      <td>20.6</td>\n",
       "      <td>0.0</td>\n",
       "      <td>0.0</td>\n",
       "      <td>0.0</td>\n",
       "    </tr>\n",
       "  </tbody>\n",
       "</table>\n",
       "</div>"
      ],
      "text/plain": [
       "    Date   dew   pm10  no2    so2   pm25  pressure  wind-speed    co  \\\n",
       "0  401.0  26.5   97.0  5.1   64.6  151.0    1009.0         5.9  10.8   \n",
       "1  402.0  24.0   73.0  5.1   15.0  189.0    1009.0         5.4   9.9   \n",
       "2  403.0  25.0  108.0  6.9    9.2  149.0    1010.5         6.1  10.1   \n",
       "3  404.0  24.5   85.0  5.2   11.4  161.0    1011.0         5.1   9.2   \n",
       "4  405.0  26.0   96.0  5.2  490.0  152.0    1011.0         5.4   9.1   \n",
       "\n",
       "   temperature  humidity    o3  wind-gust  precipitation   wd  \n",
       "0         34.0      98.9  29.8        0.0            0.0  0.0  \n",
       "1         32.5      98.9  34.6        0.0            0.0  0.0  \n",
       "2         33.0      97.9  20.7        0.0            0.0  0.0  \n",
       "3         33.0      98.5  20.6        0.0            0.0  0.0  \n",
       "4         34.5      88.8  20.6        0.0            0.0  0.0  "
      ]
     },
     "metadata": {},
     "execution_count": 66
    }
   ],
   "metadata": {}
  },
  {
   "cell_type": "code",
   "execution_count": 67,
   "source": [
    "final = pd.DataFrame(np.zeros((days*cities,16)), columns=[\"City\"] + features)\n",
    "for i in range(cities):\n",
    "    final.iloc[i*days:i*days + days,0] = list(cls.keys())[i]\n",
    "    final.iloc[i*days:i*days + days,1:] = cls[list(cls.keys())[i]].iloc[:,:]\n",
    "final.head()"
   ],
   "outputs": [
    {
     "output_type": "execute_result",
     "data": {
      "text/html": [
       "<div>\n",
       "<style scoped>\n",
       "    .dataframe tbody tr th:only-of-type {\n",
       "        vertical-align: middle;\n",
       "    }\n",
       "\n",
       "    .dataframe tbody tr th {\n",
       "        vertical-align: top;\n",
       "    }\n",
       "\n",
       "    .dataframe thead th {\n",
       "        text-align: right;\n",
       "    }\n",
       "</style>\n",
       "<table border=\"1\" class=\"dataframe\">\n",
       "  <thead>\n",
       "    <tr style=\"text-align: right;\">\n",
       "      <th></th>\n",
       "      <th>City</th>\n",
       "      <th>Date</th>\n",
       "      <th>dew</th>\n",
       "      <th>pm10</th>\n",
       "      <th>no2</th>\n",
       "      <th>so2</th>\n",
       "      <th>pm25</th>\n",
       "      <th>pressure</th>\n",
       "      <th>wind-speed</th>\n",
       "      <th>co</th>\n",
       "      <th>temperature</th>\n",
       "      <th>humidity</th>\n",
       "      <th>o3</th>\n",
       "      <th>wind-gust</th>\n",
       "      <th>precipitation</th>\n",
       "      <th>wd</th>\n",
       "    </tr>\n",
       "  </thead>\n",
       "  <tbody>\n",
       "    <tr>\n",
       "      <th>0</th>\n",
       "      <td>Thrissur</td>\n",
       "      <td>401.0</td>\n",
       "      <td>26.5</td>\n",
       "      <td>97.0</td>\n",
       "      <td>5.1</td>\n",
       "      <td>64.6</td>\n",
       "      <td>151.0</td>\n",
       "      <td>1009.0</td>\n",
       "      <td>5.9</td>\n",
       "      <td>10.8</td>\n",
       "      <td>34.0</td>\n",
       "      <td>98.9</td>\n",
       "      <td>29.8</td>\n",
       "      <td>0.0</td>\n",
       "      <td>0.0</td>\n",
       "      <td>0.0</td>\n",
       "    </tr>\n",
       "    <tr>\n",
       "      <th>1</th>\n",
       "      <td>Thrissur</td>\n",
       "      <td>402.0</td>\n",
       "      <td>24.0</td>\n",
       "      <td>73.0</td>\n",
       "      <td>5.1</td>\n",
       "      <td>15.0</td>\n",
       "      <td>189.0</td>\n",
       "      <td>1009.0</td>\n",
       "      <td>5.4</td>\n",
       "      <td>9.9</td>\n",
       "      <td>32.5</td>\n",
       "      <td>98.9</td>\n",
       "      <td>34.6</td>\n",
       "      <td>0.0</td>\n",
       "      <td>0.0</td>\n",
       "      <td>0.0</td>\n",
       "    </tr>\n",
       "    <tr>\n",
       "      <th>2</th>\n",
       "      <td>Thrissur</td>\n",
       "      <td>403.0</td>\n",
       "      <td>25.0</td>\n",
       "      <td>108.0</td>\n",
       "      <td>6.9</td>\n",
       "      <td>9.2</td>\n",
       "      <td>149.0</td>\n",
       "      <td>1010.5</td>\n",
       "      <td>6.1</td>\n",
       "      <td>10.1</td>\n",
       "      <td>33.0</td>\n",
       "      <td>97.9</td>\n",
       "      <td>20.7</td>\n",
       "      <td>0.0</td>\n",
       "      <td>0.0</td>\n",
       "      <td>0.0</td>\n",
       "    </tr>\n",
       "    <tr>\n",
       "      <th>3</th>\n",
       "      <td>Thrissur</td>\n",
       "      <td>404.0</td>\n",
       "      <td>24.5</td>\n",
       "      <td>85.0</td>\n",
       "      <td>5.2</td>\n",
       "      <td>11.4</td>\n",
       "      <td>161.0</td>\n",
       "      <td>1011.0</td>\n",
       "      <td>5.1</td>\n",
       "      <td>9.2</td>\n",
       "      <td>33.0</td>\n",
       "      <td>98.5</td>\n",
       "      <td>20.6</td>\n",
       "      <td>0.0</td>\n",
       "      <td>0.0</td>\n",
       "      <td>0.0</td>\n",
       "    </tr>\n",
       "    <tr>\n",
       "      <th>4</th>\n",
       "      <td>Thrissur</td>\n",
       "      <td>405.0</td>\n",
       "      <td>26.0</td>\n",
       "      <td>96.0</td>\n",
       "      <td>5.2</td>\n",
       "      <td>490.0</td>\n",
       "      <td>152.0</td>\n",
       "      <td>1011.0</td>\n",
       "      <td>5.4</td>\n",
       "      <td>9.1</td>\n",
       "      <td>34.5</td>\n",
       "      <td>88.8</td>\n",
       "      <td>20.6</td>\n",
       "      <td>0.0</td>\n",
       "      <td>0.0</td>\n",
       "      <td>0.0</td>\n",
       "    </tr>\n",
       "  </tbody>\n",
       "</table>\n",
       "</div>"
      ],
      "text/plain": [
       "       City   Date   dew   pm10  no2    so2   pm25  pressure  wind-speed  \\\n",
       "0  Thrissur  401.0  26.5   97.0  5.1   64.6  151.0    1009.0         5.9   \n",
       "1  Thrissur  402.0  24.0   73.0  5.1   15.0  189.0    1009.0         5.4   \n",
       "2  Thrissur  403.0  25.0  108.0  6.9    9.2  149.0    1010.5         6.1   \n",
       "3  Thrissur  404.0  24.5   85.0  5.2   11.4  161.0    1011.0         5.1   \n",
       "4  Thrissur  405.0  26.0   96.0  5.2  490.0  152.0    1011.0         5.4   \n",
       "\n",
       "     co  temperature  humidity    o3  wind-gust  precipitation   wd  \n",
       "0  10.8         34.0      98.9  29.8        0.0            0.0  0.0  \n",
       "1   9.9         32.5      98.9  34.6        0.0            0.0  0.0  \n",
       "2  10.1         33.0      97.9  20.7        0.0            0.0  0.0  \n",
       "3   9.2         33.0      98.5  20.6        0.0            0.0  0.0  \n",
       "4   9.1         34.5      88.8  20.6        0.0            0.0  0.0  "
      ]
     },
     "metadata": {},
     "execution_count": 67
    }
   ],
   "metadata": {}
  },
  {
   "cell_type": "code",
   "execution_count": 68,
   "source": [
    "final.to_csv(\"./2021_april_clean.csv\", index=False)"
   ],
   "outputs": [],
   "metadata": {}
  },
  {
   "cell_type": "code",
   "execution_count": 54,
   "source": [
    "with open('2021_april.pickle', 'wb') as handle:\n",
    "    pickle.dump(cls, handle, protocol=pickle.HIGHEST_PROTOCOL)\n",
    "handle.close()"
   ],
   "outputs": [],
   "metadata": {}
  },
  {
   "cell_type": "code",
   "execution_count": 5,
   "source": [
    "with open('2019_april.pickle', 'rb') as handle:\n",
    "    cls = pickle.load(handle)\n",
    "handle.close()\n"
   ],
   "outputs": [],
   "metadata": {}
  },
  {
   "cell_type": "code",
   "execution_count": 6,
   "source": [
    "req_cities = ['Hyderabad', 'Delhi', 'Chandigarh', 'Bhopal', 'Lucknow', 'Ghāziābād', 'Hāpur', 'Gandhinagar', 'Chennai', 'Nashik', 'Visakhapatnam', 'Mumbai', 'Jaipur', 'Patna', 'Muzaffarnagar', 'Thiruvananthapuram', 'Bengaluru', 'Kolkata']"
   ],
   "outputs": [],
   "metadata": {}
  },
  {
   "cell_type": "code",
   "execution_count": 22,
   "source": [
    "features = [\"City\", \"Date\"] + ['humidity', 'temperature', 'co', 'pm10', 'dew', 'pm25', 'pressure', 'o3', 'so2', 'no2', 'wind-speed',\"wd\",\"wind-gust\",\"precipitation\"]"
   ],
   "outputs": [],
   "metadata": {}
  },
  {
   "cell_type": "code",
   "execution_count": 36,
   "source": [
    "def remove_cities(file):\n",
    "    with open(file, 'rb') as handle:\n",
    "        cls = pickle.load(handle)\n",
    "    handle.close()\n",
    "\n",
    "    kay = list(cls.keys())\n",
    "\n",
    "    for c in kay:\n",
    "        if c not in req_cities:\n",
    "            cls.pop(c)\n",
    "    \n",
    "    days = 30\n",
    "    cities = len(req_cities)\n",
    "\n",
    "    final = pd.DataFrame(np.zeros((days*cities,16)), columns=[\"City\"] + list(cls[c].columns))\n",
    "    for i in range(cities):\n",
    "        final.iloc[i*days:i*days + days,0] = list(cls.keys())[i]\n",
    "        final.iloc[i*days:i*days + days,1:] = cls[list(cls.keys())[i]].iloc[:,:]\n",
    "    return final"
   ],
   "outputs": [],
   "metadata": {}
  },
  {
   "cell_type": "code",
   "execution_count": 39,
   "source": [
    "df19 = remove_cities(\"./2019_april.pickle\")"
   ],
   "outputs": [],
   "metadata": {}
  },
  {
   "cell_type": "code",
   "execution_count": 40,
   "source": [
    "df19.to_csv(\"./2019_april.csv\", index=False)"
   ],
   "outputs": [],
   "metadata": {}
  }
 ],
 "metadata": {
  "orig_nbformat": 4,
  "language_info": {
   "name": "python",
   "version": "3.7.11",
   "mimetype": "text/x-python",
   "codemirror_mode": {
    "name": "ipython",
    "version": 3
   },
   "pygments_lexer": "ipython3",
   "nbconvert_exporter": "python",
   "file_extension": ".py"
  },
  "kernelspec": {
   "name": "python3",
   "display_name": "Python 3.7.11 64-bit ('torch': conda)"
  },
  "interpreter": {
   "hash": "451440e33959c1f925253348a8f10ad71d85494195742e56cf0c028e060ea414"
  }
 },
 "nbformat": 4,
 "nbformat_minor": 2
}